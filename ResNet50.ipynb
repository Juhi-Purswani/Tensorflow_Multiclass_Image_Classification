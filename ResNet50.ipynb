{
  "nbformat": 4,
  "nbformat_minor": 0,
  "metadata": {
    "colab": {
      "name": "ResNet50.ipynb",
      "version": "0.3.2",
      "provenance": [],
      "collapsed_sections": [],
      "include_colab_link": true
    },
    "kernelspec": {
      "name": "python3",
      "display_name": "Python 3"
    },
    "accelerator": "TPU"
  },
  "cells": [
    {
      "cell_type": "markdown",
      "metadata": {
        "id": "view-in-github",
        "colab_type": "text"
      },
      "source": [
        "<a href=\"https://colab.research.google.com/github/Juhi-Purswani/Tensorflow_Multiclass_Image_Classification/blob/master/ResNet50.ipynb\" target=\"_parent\"><img src=\"https://colab.research.google.com/assets/colab-badge.svg\" alt=\"Open In Colab\"/></a>"
      ]
    },
    {
      "cell_type": "code",
      "metadata": {
        "id": "GbE5ez8iG9_Z",
        "colab_type": "code",
        "outputId": "cf45ad04-1e99-40bc-e928-3c00903948eb",
        "colab": {
          "base_uri": "https://localhost:8080/",
          "height": 125
        }
      },
      "source": [
        "from google.colab import drive\n",
        "drive.mount('/content/drive') \n"
      ],
      "execution_count": 0,
      "outputs": [
        {
          "output_type": "stream",
          "text": [
            "Go to this URL in a browser: https://accounts.google.com/o/oauth2/auth?client_id=947318989803-6bn6qk8qdgf4n4g3pfee6491hc0brc4i.apps.googleusercontent.com&redirect_uri=urn%3Aietf%3Awg%3Aoauth%3A2.0%3Aoob&scope=email%20https%3A%2F%2Fwww.googleapis.com%2Fauth%2Fdocs.test%20https%3A%2F%2Fwww.googleapis.com%2Fauth%2Fdrive%20https%3A%2F%2Fwww.googleapis.com%2Fauth%2Fdrive.photos.readonly%20https%3A%2F%2Fwww.googleapis.com%2Fauth%2Fpeopleapi.readonly&response_type=code\n",
            "\n",
            "Enter your authorization code:\n",
            "··········\n",
            "Mounted at /content/drive\n"
          ],
          "name": "stdout"
        }
      ]
    },
    {
      "cell_type": "code",
      "metadata": {
        "id": "4HB1UimuHCpI",
        "colab_type": "code",
        "outputId": "918504eb-8df0-408b-989c-a62c701df5fd",
        "colab": {
          "base_uri": "https://localhost:8080/",
          "height": 34
        }
      },
      "source": [
        "!ls"
      ],
      "execution_count": 0,
      "outputs": [
        {
          "output_type": "stream",
          "text": [
            "drive  sample_data\n"
          ],
          "name": "stdout"
        }
      ]
    },
    {
      "cell_type": "code",
      "metadata": {
        "id": "-mT9kynQHErh",
        "colab_type": "code",
        "colab": {}
      },
      "source": [
        "import os\n",
        "os.chdir(\"./drive/My Drive/Plant_Seedlings\")"
      ],
      "execution_count": 0,
      "outputs": []
    },
    {
      "cell_type": "code",
      "metadata": {
        "id": "lqehOz_URzFJ",
        "colab_type": "code",
        "outputId": "8c426d8c-7110-4ec9-9e42-6bb1737efce9",
        "colab": {
          "base_uri": "https://localhost:8080/",
          "height": 195
        }
      },
      "source": [
        "pip install tensornets"
      ],
      "execution_count": 0,
      "outputs": [
        {
          "output_type": "stream",
          "text": [
            "Collecting tensornets\n",
            "\u001b[?25l  Downloading https://files.pythonhosted.org/packages/fc/e3/74e43fe9ab8203cd4ffe97f3943d631a587e2bea651be4f09713993d423f/tensornets-0.4.0.tar.gz (587kB)\n",
            "\u001b[K     |████████████████████████████████| 593kB 3.5MB/s \n",
            "\u001b[?25hBuilding wheels for collected packages: tensornets\n",
            "  Building wheel for tensornets (setup.py) ... \u001b[?25l\u001b[?25hdone\n",
            "  Stored in directory: /root/.cache/pip/wheels/0c/ae/7a/6d31e83c89c2b02c13e8f08ee8e20abe71670061e057a6058f\n",
            "Successfully built tensornets\n",
            "Installing collected packages: tensornets\n",
            "Successfully installed tensornets-0.4.0\n"
          ],
          "name": "stdout"
        }
      ]
    },
    {
      "cell_type": "code",
      "metadata": {
        "id": "JlgkUOKwHOHh",
        "colab_type": "code",
        "outputId": "35c1219c-5a8e-4a4f-81b9-17456d54bd8d",
        "colab": {
          "base_uri": "https://localhost:8080/",
          "height": 34
        }
      },
      "source": [
        "import cv2\n",
        "import numpy as np\n",
        "from keras.utils import to_categorical\n",
        "from sklearn.model_selection import train_test_split\n",
        "import tensorflow as tf\n",
        "from sklearn.utils import shuffle\n",
        "\n",
        "import matplotlib.pyplot as plt\n",
        "%matplotlib inline\n",
        "\n",
        "import tensorflow as tf\n",
        "import tensornets as nets"
      ],
      "execution_count": 0,
      "outputs": [
        {
          "output_type": "stream",
          "text": [
            "Using TensorFlow backend.\n"
          ],
          "name": "stderr"
        }
      ]
    },
    {
      "cell_type": "code",
      "metadata": {
        "id": "2QEegBR-HTyn",
        "colab_type": "code",
        "colab": {}
      },
      "source": [
        "IMG_SIZE = 224\n",
        "CHANNELS = 3\n",
        "TRAIN_DIR = 'plant_seedlings'\n",
        "#TEST_DIR = ''\n",
        "batch_size = 32\n",
        "learning_rate = 0.001\n",
        "training_iters = 20\n",
        "n_classes = 12"
      ],
      "execution_count": 0,
      "outputs": []
    },
    {
      "cell_type": "code",
      "metadata": {
        "id": "Uij1CJhYHWkD",
        "colab_type": "code",
        "colab": {}
      },
      "source": [
        "def create_features_labels(DIR):\n",
        "  features = []\n",
        "  labels = []\n",
        "  dir_number = 0\n",
        "  car_names = os.listdir(DIR)\n",
        "  for name in car_names:\n",
        "    path = DIR + '/' + name\n",
        "    print(\"dir name and number\" , path , 'and',dir_number)\n",
        "    print(path)\n",
        "    image_names = os.listdir(path)\n",
        "    i=0\n",
        "    for image_name in image_names:\n",
        "      i=i+1\n",
        "      if(i>120):\n",
        "        continue\n",
        "      image_path = path + '/' + image_name\n",
        "      img = cv2.imread(image_path,cv2.IMREAD_COLOR)\n",
        "      img = cv2.resize(img,(IMG_SIZE,IMG_SIZE))\n",
        "      features.append(img)\n",
        "      labels.append(np.array(dir_number))\n",
        "    dir_number = dir_number + 1\n",
        "  return(features , labels)"
      ],
      "execution_count": 0,
      "outputs": []
    },
    {
      "cell_type": "code",
      "metadata": {
        "id": "4rXv77hUHabS",
        "colab_type": "code",
        "outputId": "b031f8a0-cc1b-4343-fa26-aa402a252564",
        "colab": {
          "base_uri": "https://localhost:8080/",
          "height": 439
        }
      },
      "source": [
        "train_features,train_labels = create_features_labels(TRAIN_DIR)"
      ],
      "execution_count": 0,
      "outputs": [
        {
          "output_type": "stream",
          "text": [
            "dir name and number plant_seedlings/Scentless Mayweed and 0\n",
            "plant_seedlings/Scentless Mayweed\n",
            "dir name and number plant_seedlings/Loose Silky-bent and 1\n",
            "plant_seedlings/Loose Silky-bent\n",
            "dir name and number plant_seedlings/Common wheat and 2\n",
            "plant_seedlings/Common wheat\n",
            "dir name and number plant_seedlings/Charlock and 3\n",
            "plant_seedlings/Charlock\n",
            "dir name and number plant_seedlings/Sugar beet and 4\n",
            "plant_seedlings/Sugar beet\n",
            "dir name and number plant_seedlings/Small-flowered Cranesbill and 5\n",
            "plant_seedlings/Small-flowered Cranesbill\n",
            "dir name and number plant_seedlings/Cleavers and 6\n",
            "plant_seedlings/Cleavers\n",
            "dir name and number plant_seedlings/Fat Hen and 7\n",
            "plant_seedlings/Fat Hen\n",
            "dir name and number plant_seedlings/Common Chickweed and 8\n",
            "plant_seedlings/Common Chickweed\n",
            "dir name and number plant_seedlings/Shepherd’s Purse and 9\n",
            "plant_seedlings/Shepherd’s Purse\n",
            "dir name and number plant_seedlings/Maize and 10\n",
            "plant_seedlings/Maize\n",
            "dir name and number plant_seedlings/Black-grass and 11\n",
            "plant_seedlings/Black-grass\n"
          ],
          "name": "stdout"
        }
      ]
    },
    {
      "cell_type": "code",
      "metadata": {
        "id": "AU7xw58hHcLT",
        "colab_type": "code",
        "outputId": "88daff56-f552-4047-afae-7b0cd6e923ee",
        "colab": {
          "base_uri": "https://localhost:8080/",
          "height": 34
        }
      },
      "source": [
        "features, labels = shuffle(train_features,train_labels)\n",
        "features = np.asarray(features).reshape(-1,IMG_SIZE,IMG_SIZE,CHANNELS)\n",
        "labels = np.asarray(labels)\n",
        "#test_labels = np.asarray(test_labels)\n",
        "labels = to_categorical(labels)\n",
        "#test_labels = to_categorical(test_labels)\n",
        "\n",
        "print(features.shape,labels.shape)"
      ],
      "execution_count": 0,
      "outputs": [
        {
          "output_type": "stream",
          "text": [
            "(1440, 224, 224, 3) (1440, 12)\n"
          ],
          "name": "stdout"
        }
      ]
    },
    {
      "cell_type": "code",
      "metadata": {
        "id": "e0E1RGGFHgZX",
        "colab_type": "code",
        "colab": {}
      },
      "source": [
        "X_train, X_test, y_train, y_test = train_test_split(features, labels, test_size=0.2, random_state=42)\n",
        "X_train = (X_train/np.float32(255))\n",
        "X_test = X_test/np.float32(255)\n"
      ],
      "execution_count": 0,
      "outputs": []
    },
    {
      "cell_type": "code",
      "metadata": {
        "id": "fY6p1kS6UEQr",
        "colab_type": "code",
        "outputId": "5f720b69-da6b-4c19-d0f6-10101b0d1b4d",
        "colab": {
          "base_uri": "https://localhost:8080/",
          "height": 34
        }
      },
      "source": [
        "X_train.shape"
      ],
      "execution_count": 0,
      "outputs": [
        {
          "output_type": "execute_result",
          "data": {
            "text/plain": [
              "(1152, 224, 224, 3)"
            ]
          },
          "metadata": {
            "tags": []
          },
          "execution_count": 11
        }
      ]
    },
    {
      "cell_type": "code",
      "metadata": {
        "id": "PZFKKgS9Hin1",
        "colab_type": "code",
        "outputId": "40a43799-d2d9-4177-ea8f-4e82e4272597",
        "colab": {
          "base_uri": "https://localhost:8080/",
          "height": 248
        }
      },
      "source": [
        "\n",
        "inputs = tf.placeholder(tf.float32, [None, IMG_SIZE,IMG_SIZE,CHANNELS])\n",
        "outputs = tf.placeholder(tf.float32, [None, n_classes])\n",
        "logits = nets.ResNet50(inputs, is_training=True, classes=n_classes)\n",
        "model = tf.identity(logits, name='logits')\n",
        "loss = tf.losses.softmax_cross_entropy(outputs, logits)\n",
        "train = tf.train.AdamOptimizer(learning_rate=1e-5).minimize(loss)\n",
        "correct_pred = tf.equal(tf.argmax(model, 1), tf.argmax(outputs, 1))\n",
        "accuracy = tf.reduce_mean(tf.cast(correct_pred, tf.float32), name='accuracy')"
      ],
      "execution_count": 0,
      "outputs": [
        {
          "output_type": "stream",
          "text": [
            "WARNING: Logging before flag parsing goes to stderr.\n",
            "W0707 13:01:49.116525 140009738106752 deprecation_wrapper.py:119] From /usr/local/lib/python3.6/dist-packages/tensornets/utils.py:238: The name tf.variable_scope is deprecated. Please use tf.compat.v1.variable_scope instead.\n",
            "\n",
            "W0707 13:01:49.133281 140009738106752 deprecation_wrapper.py:119] From /usr/local/lib/python3.6/dist-packages/tensornets/utils.py:277: The name tf.get_variable_scope is deprecated. Please use tf.compat.v1.get_variable_scope instead.\n",
            "\n",
            "W0707 13:01:53.007740 140009738106752 deprecation_wrapper.py:119] From /usr/local/lib/python3.6/dist-packages/tensornets/utils.py:246: The name tf.get_default_graph is deprecated. Please use tf.compat.v1.get_default_graph instead.\n",
            "\n",
            "W0707 13:01:53.009194 140009738106752 deprecation_wrapper.py:119] From /usr/local/lib/python3.6/dist-packages/tensornets/utils.py:125: The name tf.get_collection is deprecated. Please use tf.compat.v1.get_collection instead.\n",
            "\n",
            "W0707 13:01:53.082142 140009738106752 deprecation.py:323] From /usr/local/lib/python3.6/dist-packages/tensorflow/python/ops/losses/losses_impl.py:121: add_dispatch_support.<locals>.wrapper (from tensorflow.python.ops.array_ops) is deprecated and will be removed in a future version.\n",
            "Instructions for updating:\n",
            "Use tf.where in 2.0, which has the same broadcast rule as np.where\n"
          ],
          "name": "stderr"
        }
      ]
    },
    {
      "cell_type": "code",
      "metadata": {
        "id": "fmmmeqqhI2iU",
        "colab_type": "code",
        "outputId": "7d111718-08c0-4756-94c4-97717337027a",
        "colab": {
          "base_uri": "https://localhost:8080/",
          "height": 459
        }
      },
      "source": [
        "with tf.Session() as sess:\n",
        "    sess.run(tf.global_variables_initializer())\n",
        "    sess.run(logits.pretrained())\n",
        "    training_loss = []\n",
        "    train_accuracy = []\n",
        "    val_loss = []\n",
        "    val_accuracy = []\n",
        "    #print(\"aaa\")\n",
        "    #summary_writer = tf.summary.FileWriter('./Output', sess.graph)\n",
        "    for i in range(training_iters):\n",
        "        for batch in range(len(X_train)//batch_size):\n",
        "            #print(\"bbb\")\n",
        "            batch_x = X_train[batch*batch_size:min((batch+1)*batch_size,len(X_train))]\n",
        "            batch_y = y_train[batch*batch_size:min((batch+1)*batch_size,len(y_train))]\n",
        "            #print(\"A\")\n",
        "            #print(batch_x.shape,batch_y.shape)\n",
        "            \n",
        "            opt = sess.run(train, feed_dict={inputs: batch_x,outputs: batch_y})\n",
        "            #print(\"B\")\n",
        "            train_loss, acc = sess.run([loss, accuracy], feed_dict={inputs: batch_x, outputs: batch_y})\n",
        "            #print(\"C\")\n",
        "        #print(\"D\")\n",
        "        loss2, val_acc = sess.run([loss, accuracy], feed_dict={inputs: X_test, outputs: y_test})\n",
        "        #print(\"E\")\n",
        "        print(\"Epoch\", i+1 , \": training loss:\" , train_loss, \", training accuracy:\", acc,\", valiation loss:\" , loss2, \", validation accuracy:\", val_acc)\n",
        "        #print(\"the \", i , \"th iteration with valiation loss: \" , loss2, \" and validation accuracy: \", val_acc)\n",
        "        #print(\"_____________________________________________________________\")\n",
        "        #print(loss)\n",
        "        #print(\"_____________________________________________________________\")\n",
        "        training_loss.append(train_loss)\n",
        "        train_accuracy.append(acc)\n",
        "        val_loss.append(loss2)\n",
        "        val_accuracy.append(val_acc)\n",
        "    #summary_writer.close()"
      ],
      "execution_count": 0,
      "outputs": [
        {
          "output_type": "stream",
          "text": [
            "Downloading data from https://github.com/taehoonlee/deep-learning-models/releases/download/resnet/resnet50.h5\n",
            "102899712/102891672 [==============================] - 2s 0us/step\n"
          ],
          "name": "stdout"
        },
        {
          "output_type": "stream",
          "text": [
            "W0707 13:02:01.351774 140009738106752 deprecation_wrapper.py:119] From /usr/local/lib/python3.6/dist-packages/tensornets/utils.py:130: The name tf.GraphKeys is deprecated. Please use tf.compat.v1.GraphKeys instead.\n",
            "\n"
          ],
          "name": "stderr"
        },
        {
          "output_type": "stream",
          "text": [
            "Epoch 1 : training loss: 2.3771675 , training accuracy: 0.375 , valiation loss: 2.4012866 , validation accuracy: 0.2847222\n",
            "Epoch 2 : training loss: 2.1565852 , training accuracy: 0.625 , valiation loss: 2.2785463 , validation accuracy: 0.44444445\n",
            "Epoch 3 : training loss: 2.0158346 , training accuracy: 0.6875 , valiation loss: 2.192407 , validation accuracy: 0.5\n",
            "Epoch 4 : training loss: 1.9148033 , training accuracy: 0.8125 , valiation loss: 2.1298337 , validation accuracy: 0.6006944\n",
            "Epoch 5 : training loss: 1.8252878 , training accuracy: 0.9375 , valiation loss: 2.0585835 , validation accuracy: 0.6770833\n",
            "Epoch 6 : training loss: 1.747273 , training accuracy: 0.9375 , valiation loss: 1.9983205 , validation accuracy: 0.7395833\n",
            "Epoch 7 : training loss: 1.7065831 , training accuracy: 0.9375 , valiation loss: 1.9588724 , validation accuracy: 0.7708333\n",
            "Epoch 8 : training loss: 1.6850818 , training accuracy: 0.96875 , valiation loss: 1.9318537 , validation accuracy: 0.78125\n",
            "Epoch 9 : training loss: 1.6663508 , training accuracy: 0.96875 , valiation loss: 1.9127587 , validation accuracy: 0.7951389\n",
            "Epoch 10 : training loss: 1.6567895 , training accuracy: 0.96875 , valiation loss: 1.8993098 , validation accuracy: 0.8055556\n",
            "Epoch 11 : training loss: 1.6493292 , training accuracy: 1.0 , valiation loss: 1.8885822 , validation accuracy: 0.8055556\n",
            "Epoch 12 : training loss: 1.6346967 , training accuracy: 1.0 , valiation loss: 1.8799286 , validation accuracy: 0.8194444\n",
            "Epoch 13 : training loss: 1.6267381 , training accuracy: 1.0 , valiation loss: 1.8726294 , validation accuracy: 0.8229167\n",
            "Epoch 14 : training loss: 1.6252497 , training accuracy: 1.0 , valiation loss: 1.8663993 , validation accuracy: 0.8229167\n",
            "Epoch 15 : training loss: 1.624212 , training accuracy: 1.0 , valiation loss: 1.8608909 , validation accuracy: 0.8229167\n",
            "Epoch 16 : training loss: 1.6234338 , training accuracy: 1.0 , valiation loss: 1.8560973 , validation accuracy: 0.8229167\n",
            "Epoch 17 : training loss: 1.6228173 , training accuracy: 1.0 , valiation loss: 1.8519197 , validation accuracy: 0.8229167\n",
            "Epoch 18 : training loss: 1.6223152 , training accuracy: 1.0 , valiation loss: 1.8482451 , validation accuracy: 0.8298611\n",
            "Epoch 19 : training loss: 1.6219015 , training accuracy: 1.0 , valiation loss: 1.8448863 , validation accuracy: 0.8333333\n",
            "Epoch 20 : training loss: 1.621568 , training accuracy: 1.0 , valiation loss: 1.841931 , validation accuracy: 0.8368056\n"
          ],
          "name": "stdout"
        }
      ]
    },
    {
      "cell_type": "code",
      "metadata": {
        "id": "Bxf7c_NvS1Hg",
        "colab_type": "code",
        "outputId": "bb1e9767-af12-48d8-edb0-c4f889332b92",
        "colab": {
          "base_uri": "https://localhost:8080/",
          "height": 317
        }
      },
      "source": [
        "plt.plot(range(len(training_loss)), training_loss, 'b', label='Training loss')\n",
        "plt.plot(range(len(val_loss)), val_loss, 'r', label='Validation loss')\n",
        "plt.title('Training and Validation loss')\n",
        "plt.xlabel('Epochs ',fontsize=16)\n",
        "plt.ylabel('Loss',fontsize=16)\n",
        "plt.legend()\n",
        "plt.figure()\n",
        "plt.show()"
      ],
      "execution_count": 0,
      "outputs": [
        {
          "output_type": "display_data",
          "data": {
            "image/png": "[encoded data removed]",
            "text/plain": [
              "<Figure size 432x288 with 1 Axes>"
            ]
          },
          "metadata": {
            "tags": []
          }
        },
        {
          "output_type": "display_data",
          "data": {
            "text/plain": [
              "<Figure size 432x288 with 0 Axes>"
            ]
          },
          "metadata": {
            "tags": []
          }
        }
      ]
    },
    {
      "cell_type": "code",
      "metadata": {
        "id": "BGi0G7pmUmv6",
        "colab_type": "code",
        "outputId": "84909efa-0c47-43eb-f697-b386b7722d22",
        "colab": {
          "base_uri": "https://localhost:8080/",
          "height": 317
        }
      },
      "source": [
        "plt.plot(range(len(training_loss)), train_accuracy, 'b', label='Training Accuracy')\n",
        "plt.plot(range(len(val_loss)), val_accuracy, 'r', label='Validation Accuracy')\n",
        "plt.title('Training and Validation Accuracy')\n",
        "plt.xlabel('Epochs ',fontsize=16)\n",
        "plt.ylabel('Loss',fontsize=16)\n",
        "plt.legend()\n",
        "plt.figure()\n",
        "plt.show()"
      ],
      "execution_count": 0,
      "outputs": [
        {
          "output_type": "display_data",
          "data": {
            "image/png": "[encoded data removed]",
            "text/plain": [
              "<Figure size 432x288 with 1 Axes>"
            ]
          },
          "metadata": {
            "tags": []
          }
        },
        {
          "output_type": "display_data",
          "data": {
            "text/plain": [
              "<Figure size 432x288 with 0 Axes>"
            ]
          },
          "metadata": {
            "tags": []
          }
        }
      ]
    },
    {
      "cell_type": "code",
      "metadata": {
        "id": "Dcf7kScCU3-V",
        "colab_type": "code",
        "colab": {}
      },
      "source": [
        ""
      ],
      "execution_count": 0,
      "outputs": []
    },
    {
      "cell_type": "code",
      "metadata": {
        "id": "ta0UdmCvHJ7X",
        "colab_type": "code",
        "colab": {}
      },
      "source": [
        ""
      ],
      "execution_count": 0,
      "outputs": []
    },
    {
      "cell_type": "code",
      "metadata": {
        "id": "UHj9p4qzHcNN",
        "colab_type": "code",
        "colab": {}
      },
      "source": [
        ""
      ],
      "execution_count": 0,
      "outputs": []
    }
  ]
}