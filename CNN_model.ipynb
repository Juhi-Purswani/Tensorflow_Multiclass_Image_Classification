{
  "nbformat": 4,
  "nbformat_minor": 0,
  "metadata": {
    "colab": {
      "name": "CNN_model.ipynb",
      "version": "0.3.2",
      "provenance": [],
      "collapsed_sections": [],
      "include_colab_link": true
    },
    "kernelspec": {
      "name": "python3",
      "display_name": "Python 3"
    },
    "accelerator": "TPU"
  },
  "cells": [
    {
      "cell_type": "markdown",
      "metadata": {
        "id": "view-in-github",
        "colab_type": "text"
      },
      "source": [
        "<a href=\"https://colab.research.google.com/github/Juhi-Purswani/Tensorflow_Multiclass_Image_Classification/blob/master/CNN_model.ipynb\" target=\"_parent\"><img src=\"https://colab.research.google.com/assets/colab-badge.svg\" alt=\"Open In Colab\"/></a>"
      ]
    },
    {
      "cell_type": "code",
      "metadata": {
        "id": "ibY-eM59u-Ba",
        "colab_type": "code",
        "outputId": "6e035f3d-a9bf-40f6-b10a-f70520d63373",
        "colab": {
          "base_uri": "https://localhost:8080/",
          "height": 125
        }
      },
      "source": [
        "from google.colab import drive\n",
        "drive.mount('/content/drive') \n"
      ],
      "execution_count": 0,
      "outputs": [
        {
          "output_type": "stream",
          "text": [
            "Go to this URL in a browser: https://accounts.google.com/o/oauth2/auth?client_id=947318989803-6bn6qk8qdgf4n4g3pfee6491hc0brc4i.apps.googleusercontent.com&redirect_uri=urn%3Aietf%3Awg%3Aoauth%3A2.0%3Aoob&scope=email%20https%3A%2F%2Fwww.googleapis.com%2Fauth%2Fdocs.test%20https%3A%2F%2Fwww.googleapis.com%2Fauth%2Fdrive%20https%3A%2F%2Fwww.googleapis.com%2Fauth%2Fdrive.photos.readonly%20https%3A%2F%2Fwww.googleapis.com%2Fauth%2Fpeopleapi.readonly&response_type=code\n",
            "\n",
            "Enter your authorization code:\n",
            "··········\n",
            "Mounted at /content/drive\n"
          ],
          "name": "stdout"
        }
      ]
    },
    {
      "cell_type": "code",
      "metadata": {
        "id": "cXvx99kUyA1P",
        "colab_type": "code",
        "outputId": "9259d8e8-2cf7-4fce-abdc-ca2f369fc01d",
        "colab": {
          "base_uri": "https://localhost:8080/",
          "height": 34
        }
      },
      "source": [
        "!ls"
      ],
      "execution_count": 0,
      "outputs": [
        {
          "output_type": "stream",
          "text": [
            "drive  sample_data\n"
          ],
          "name": "stdout"
        }
      ]
    },
    {
      "cell_type": "code",
      "metadata": {
        "id": "wiuEGrHnyMu_",
        "colab_type": "code",
        "colab": {}
      },
      "source": [
        "import os\n",
        "os.chdir(\"./drive/My Drive/Plant_Seedlings\")"
      ],
      "execution_count": 0,
      "outputs": []
    },
    {
      "cell_type": "code",
      "metadata": {
        "id": "6uYXoXRYyVDD",
        "colab_type": "code",
        "outputId": "170f8077-4a1f-4036-d281-49333b24505a",
        "colab": {
          "base_uri": "https://localhost:8080/",
          "height": 34
        }
      },
      "source": [
        "import cv2\n",
        "import numpy as np\n",
        "from keras.utils import to_categorical\n",
        "from sklearn.model_selection import train_test_split\n",
        "import tensorflow as tf\n",
        "from sklearn.utils import shuffle\n",
        "\n",
        "import matplotlib.pyplot as plt\n",
        "%matplotlib inline"
      ],
      "execution_count": 0,
      "outputs": [
        {
          "output_type": "stream",
          "text": [
            "Using TensorFlow backend.\n"
          ],
          "name": "stderr"
        }
      ]
    },
    {
      "cell_type": "code",
      "metadata": {
        "id": "TUr2iziFyX8_",
        "colab_type": "code",
        "colab": {}
      },
      "source": [
        "IMG_SIZE = 224\n",
        "CHANNELS = 3\n",
        "TRAIN_DIR = 'plant_seedlings'\n",
        "#TEST_DIR = ''\n",
        "batch_size = 128\n",
        "learning_rate = 0.001\n",
        "training_iters = 20\n",
        "n_classes = 12"
      ],
      "execution_count": 0,
      "outputs": []
    },
    {
      "cell_type": "code",
      "metadata": {
        "id": "zqxVxuEPyt1u",
        "colab_type": "code",
        "colab": {}
      },
      "source": [
        "def create_features_labels(DIR):\n",
        "  features = []\n",
        "  labels = []\n",
        "  dir_number = 0\n",
        "  car_names = os.listdir(DIR)\n",
        "  for name in car_names:\n",
        "    path = DIR + '/' + name\n",
        "    print(\"dir name and number\" , path , 'and',dir_number)\n",
        "    print(path)\n",
        "    image_names = os.listdir(path)\n",
        "    i=0\n",
        "    for image_name in image_names:\n",
        "      i=i+1\n",
        "      if(i>120):\n",
        "        continue\n",
        "      image_path = path + '/' + image_name\n",
        "      img = cv2.imread(image_path,cv2.IMREAD_COLOR)\n",
        "      img = cv2.resize(img,(IMG_SIZE,IMG_SIZE))\n",
        "      features.append(img)\n",
        "      labels.append(np.array(dir_number))\n",
        "    dir_number = dir_number + 1\n",
        "  return(features , labels)"
      ],
      "execution_count": 0,
      "outputs": []
    },
    {
      "cell_type": "code",
      "metadata": {
        "id": "Vp70MdcdywsU",
        "colab_type": "code",
        "outputId": "094b02bf-7295-4ba0-f1d9-c17544c78513",
        "colab": {
          "base_uri": "https://localhost:8080/",
          "height": 403
        }
      },
      "source": [
        "train_features,train_labels = create_features_labels(TRAIN_DIR)\n",
        "#test_features,test_labels = create_features_labels(TEST_DIR)\n",
        "train_features = np.asarray(train_features).reshape(-1,IMG_SIZE,IMG_SIZE,CHANNELS)\n",
        "#test_features = np.asarray(test_features).reshape(-1,IMG_SIZE,IMG_SIZE,CHANNELS)"
      ],
      "execution_count": 0,
      "outputs": [
        {
          "output_type": "stream",
          "text": [
            "dir name and number plant_seedlings/Scentless Mayweed and 0\n",
            "plant_seedlings/Scentless Mayweed\n",
            "dir name and number plant_seedlings/Loose Silky-bent and 1\n",
            "plant_seedlings/Loose Silky-bent\n",
            "dir name and number plant_seedlings/Common wheat and 2\n",
            "plant_seedlings/Common wheat\n",
            "dir name and number plant_seedlings/Charlock and 3\n",
            "plant_seedlings/Charlock\n",
            "dir name and number plant_seedlings/Sugar beet and 4\n",
            "plant_seedlings/Sugar beet\n",
            "dir name and number plant_seedlings/Cleavers and 6\n",
            "plant_seedlings/Cleavers\n",
            "dir name and number plant_seedlings/Fat Hen and 7\n",
            "plant_seedlings/Fat Hen\n",
            "dir name and number plant_seedlings/Common Chickweed and 8\n",
            "plant_seedlings/Common Chickweed\n",
            "dir name and number plant_seedlings/Shepherd’s Purse and 9\n",
            "plant_seedlings/Shepherd’s Purse\n",
            "dir name and number plant_seedlings/Maize and 10\n",
            "plant_seedlings/Maize\n",
            "dir name and number plant_seedlings/Black-grass and 11\n",
            "plant_seedlings/Black-grass\n"
          ],
          "name": "stdout"
        }
      ]
    },
    {
      "cell_type": "code",
      "metadata": {
        "id": "IAg5W9zGAeHn",
        "colab_type": "code",
        "colab": {}
      },
      "source": [
        "features, labels = shuffle(train_features,train_labels)"
      ],
      "execution_count": 0,
      "outputs": []
    },
    {
      "cell_type": "code",
      "metadata": {
        "id": "ejyES1Wxyz6P",
        "colab_type": "code",
        "colab": {}
      },
      "source": [
        "labels = np.asarray(labels)\n",
        "#test_labels = np.asarray(test_labels)\n",
        "labels = to_categorical(labels)\n",
        "#test_labels = to_categorical(test_labels)"
      ],
      "execution_count": 0,
      "outputs": []
    },
    {
      "cell_type": "code",
      "metadata": {
        "id": "2TOaKaOVy175",
        "colab_type": "code",
        "outputId": "b5d4b998-0f4f-4a9b-9c0e-8e1a6407ed4c",
        "colab": {
          "base_uri": "https://localhost:8080/",
          "height": 34
        }
      },
      "source": [
        "print(features.shape,labels.shape)\n",
        "#print(test_features.shape,test_labels.shape)"
      ],
      "execution_count": 0,
      "outputs": [
        {
          "output_type": "stream",
          "text": [
            "(1440, 224, 224, 3) (1440, 12)\n"
          ],
          "name": "stdout"
        }
      ]
    },
    {
      "cell_type": "code",
      "metadata": {
        "id": "K-xCqM6q3nDZ",
        "colab_type": "code",
        "colab": {}
      },
      "source": [
        "X_train, X_test, y_train, y_test = train_test_split(features, labels, test_size=0.2, random_state=42)"
      ],
      "execution_count": 0,
      "outputs": []
    },
    {
      "cell_type": "code",
      "metadata": {
        "id": "8G1HaYn5SkC2",
        "colab_type": "code",
        "colab": {}
      },
      "source": [
        "X_train = (X_train/np.float32(255))\n",
        "X_test = X_test/np.float32(255)"
      ],
      "execution_count": 0,
      "outputs": []
    },
    {
      "cell_type": "code",
      "metadata": {
        "id": "2DQuXs_EndSm",
        "colab_type": "code",
        "outputId": "96b0cf7c-dc04-48df-f20b-880dbe93feab",
        "colab": {
          "base_uri": "https://localhost:8080/",
          "height": 34
        }
      },
      "source": [
        "X_train.shape"
      ],
      "execution_count": 0,
      "outputs": [
        {
          "output_type": "execute_result",
          "data": {
            "text/plain": [
              "(1152, 224, 224, 3)"
            ]
          },
          "metadata": {
            "tags": []
          },
          "execution_count": 15
        }
      ]
    },
    {
      "cell_type": "code",
      "metadata": {
        "id": "lEGPTe4Hy7aq",
        "colab_type": "code",
        "outputId": "73f199a4-e7ef-475c-dec7-605e79965f6d",
        "colab": {
          "base_uri": "https://localhost:8080/",
          "height": 265
        }
      },
      "source": [
        "x = tf.placeholder(\"float\",[None,IMG_SIZE,IMG_SIZE,CHANNELS])\n",
        "y = tf.placeholder(\"float\",[None,n_classes])\n",
        "\n",
        "conv1 = tf.layers.conv2d(inputs=x,filters=64,kernel_size=[3,3],padding=\"same\",activation =tf.nn.relu)\n",
        "pool1 = tf.layers.max_pooling2d(inputs=conv1,pool_size=[2,2],strides=2)\n",
        "conv2 = tf.layers.conv2d(inputs=pool1,filters=32,kernel_size=[3,3],padding=\"same\",activation=tf.nn.relu)\n",
        "pool2 = tf.layers.max_pooling2d(inputs=conv2,pool_size=[2,2],strides=2)\n",
        "conv3 = tf.layers.conv2d(inputs=pool2,filters=16,kernel_size=[3,3],padding=\"same\",activation=tf.nn.relu)\n",
        "pool3 = tf.layers.max_pooling2d(inputs=conv3,pool_size=[2,2],strides=2)\n",
        "pool3_flat = tf.reshape(pool3,[-1,28*28*16])\n",
        "dense1 = tf.layers.dense(inputs=pool3_flat,units=1000,activation=tf.nn.relu)\n",
        "dense2 = tf.layers.dense(inputs=dense1,units=100,activation=tf.nn.relu)\n",
        "out = tf.layers.dense(inputs=dense2,units=12,activation=tf.nn.relu)"
      ],
      "execution_count": 0,
      "outputs": [
        {
          "output_type": "stream",
          "text": [
            "WARNING: Logging before flag parsing goes to stderr.\n",
            "W0707 10:34:20.679914 139925191346048 deprecation.py:323] From <ipython-input-16-76e6c3cf98c3>:4: conv2d (from tensorflow.python.layers.convolutional) is deprecated and will be removed in a future version.\n",
            "Instructions for updating:\n",
            "Use `tf.keras.layers.Conv2D` instead.\n",
            "W0707 10:34:20.687525 139925191346048 deprecation.py:506] From /usr/local/lib/python3.6/dist-packages/tensorflow/python/ops/init_ops.py:1251: calling VarianceScaling.__init__ (from tensorflow.python.ops.init_ops) with dtype is deprecated and will be removed in a future version.\n",
            "Instructions for updating:\n",
            "Call initializer instance with the dtype argument instead of passing it to the constructor\n",
            "W0707 10:34:20.973894 139925191346048 deprecation.py:323] From <ipython-input-16-76e6c3cf98c3>:5: max_pooling2d (from tensorflow.python.layers.pooling) is deprecated and will be removed in a future version.\n",
            "Instructions for updating:\n",
            "Use keras.layers.MaxPooling2D instead.\n",
            "W0707 10:34:21.158632 139925191346048 deprecation.py:323] From <ipython-input-16-76e6c3cf98c3>:11: dense (from tensorflow.python.layers.core) is deprecated and will be removed in a future version.\n",
            "Instructions for updating:\n",
            "Use keras.layers.dense instead.\n"
          ],
          "name": "stderr"
        }
      ]
    },
    {
      "cell_type": "code",
      "metadata": {
        "id": "23nNhxGtzAHB",
        "colab_type": "code",
        "outputId": "c849cfd8-80d9-4804-9c6f-a368a1270101",
        "colab": {
          "base_uri": "https://localhost:8080/",
          "height": 177
        }
      },
      "source": [
        "cost = tf.reduce_mean(tf.nn.softmax_cross_entropy_with_logits(logits = out,labels = y))\n",
        "optimizer = tf.train.AdamOptimizer(learning_rate=learning_rate).minimize(cost)\n",
        "#Two more nodes for accuray evaluation\n",
        "correct_prediction = tf.equal(tf.argmax(out,1),tf.argmax(y,1))\n",
        "accuracy = tf.reduce_mean(tf.cast(correct_prediction,tf.float32))\n",
        "init = tf.global_variables_initializer()"
      ],
      "execution_count": 0,
      "outputs": [
        {
          "output_type": "stream",
          "text": [
            "W0707 10:34:23.325461 139925191346048 deprecation.py:323] From <ipython-input-17-827d028d1050>:1: softmax_cross_entropy_with_logits (from tensorflow.python.ops.nn_ops) is deprecated and will be removed in a future version.\n",
            "Instructions for updating:\n",
            "\n",
            "Future major versions of TensorFlow will allow gradients to flow\n",
            "into the labels input on backprop by default.\n",
            "\n",
            "See `tf.nn.softmax_cross_entropy_with_logits_v2`.\n",
            "\n"
          ],
          "name": "stderr"
        }
      ]
    },
    {
      "cell_type": "code",
      "metadata": {
        "id": "WuUNN1rGzEtd",
        "colab_type": "code",
        "outputId": "ce68bb7b-f3f5-4af7-8ad6-d0538be70132",
        "colab": {
          "base_uri": "https://localhost:8080/",
          "height": 368
        }
      },
      "source": [
        "with tf.Session() as sess:\n",
        "    sess.run(init)\n",
        "    train_loss = []\n",
        "    train_accuracy = []\n",
        "    val_loss = []\n",
        "    val_accuracy = []\n",
        "    #summary_writer = tf.summary.FileWriter('./Output', sess.graph)\n",
        "    for i in range(training_iters):\n",
        "        for batch in range(len(X_train)//batch_size):\n",
        "            batch_x = X_train[batch*batch_size:min((batch+1)*batch_size,len(X_train))]\n",
        "            batch_y = y_train[batch*batch_size:min((batch+1)*batch_size,len(y_train))]\n",
        "            #print(\"A\")\n",
        "            #print(batch_x.shape,batch_y.shape)\n",
        "            a,b,c,d = batch_x.shape\n",
        "            if(a==0):\n",
        "              break\n",
        "            opt = sess.run(optimizer, feed_dict={x: batch_x,y: batch_y})\n",
        "            #print(\"B\")\n",
        "            loss, acc = sess.run([cost, accuracy], feed_dict={x: batch_x, y: batch_y})\n",
        "            #print(\"C\")\n",
        "        #print(\"D\")\n",
        "        loss2, val_acc = sess.run([cost, accuracy], feed_dict={x: X_test, y: y_test})\n",
        "        #print(\"E\")\n",
        "        print(\"Epoch\", i+1 , \": training loss:\" , loss, \" , training accuracy:\", acc,\", validation loss:\",loss2,\", validation accuracy:\",val_acc)\n",
        "        \n",
        "        #print(\"_____________________________________________________________\")\n",
        "        #print(loss)\n",
        "        #print(\"_____________________________________________________________\")\n",
        "        train_loss.append(loss)\n",
        "        train_accuracy.append(acc)\n",
        "        val_loss.append(loss2)\n",
        "        val_accuracy.append(val_acc)\n",
        "    #summary_writer.close()"
      ],
      "execution_count": 0,
      "outputs": [
        {
          "output_type": "stream",
          "text": [
            "Epoch 1 : training loss: 2.4743454  , training accuracy: 0.109375 , validation loss: 2.4786994 , validation accuracy: 0.125\n",
            "Epoch 2 : training loss: 2.452756  , training accuracy: 0.15625 , validation loss: 2.4649377 , validation accuracy: 0.13541667\n",
            "Epoch 3 : training loss: 2.2987509  , training accuracy: 0.25 , validation loss: 2.3578427 , validation accuracy: 0.1875\n",
            "Epoch 4 : training loss: 2.0918872  , training accuracy: 0.3515625 , validation loss: 2.2281942 , validation accuracy: 0.21875\n",
            "Epoch 5 : training loss: 1.9713213  , training accuracy: 0.375 , validation loss: 2.1259859 , validation accuracy: 0.2847222\n",
            "Epoch 6 : training loss: 1.716682  , training accuracy: 0.4765625 , validation loss: 2.0055492 , validation accuracy: 0.3159722\n",
            "Epoch 7 : training loss: 1.3872854  , training accuracy: 0.5625 , validation loss: 1.8351977 , validation accuracy: 0.34375\n",
            "Epoch 8 : training loss: 1.2635484  , training accuracy: 0.5625 , validation loss: 1.837955 , validation accuracy: 0.36805555\n",
            "Epoch 9 : training loss: 1.0761391  , training accuracy: 0.65625 , validation loss: 1.8259898 , validation accuracy: 0.39930555\n",
            "Epoch 10 : training loss: 0.8551307  , training accuracy: 0.734375 , validation loss: 1.7648244 , validation accuracy: 0.4375\n",
            "Epoch 11 : training loss: 0.70105225  , training accuracy: 0.7890625 , validation loss: 1.7927549 , validation accuracy: 0.44791666\n",
            "Epoch 12 : training loss: 0.6101299  , training accuracy: 0.8359375 , validation loss: 1.8904481 , validation accuracy: 0.4513889\n",
            "Epoch 13 : training loss: 0.6569204  , training accuracy: 0.7890625 , validation loss: 2.1993625 , validation accuracy: 0.38194445\n",
            "Epoch 14 : training loss: 0.47193417  , training accuracy: 0.875 , validation loss: 2.0601568 , validation accuracy: 0.4340278\n",
            "Epoch 15 : training loss: 0.39816257  , training accuracy: 0.8828125 , validation loss: 1.9863012 , validation accuracy: 0.4861111\n",
            "Epoch 16 : training loss: 0.32927662  , training accuracy: 0.8984375 , validation loss: 2.0296233 , validation accuracy: 0.45833334\n",
            "Epoch 17 : training loss: 0.30736455  , training accuracy: 0.90625 , validation loss: 2.0924802 , validation accuracy: 0.46180555\n",
            "Epoch 18 : training loss: 0.35122725  , training accuracy: 0.890625 , validation loss: 2.3236673 , validation accuracy: 0.4201389\n",
            "Epoch 19 : training loss: 0.31181633  , training accuracy: 0.8984375 , validation loss: 2.1327968 , validation accuracy: 0.46180555\n",
            "Epoch 20 : training loss: 0.26494616  , training accuracy: 0.90625 , validation loss: 2.1746979 , validation accuracy: 0.47569445\n"
          ],
          "name": "stdout"
        }
      ]
    },
    {
      "cell_type": "code",
      "metadata": {
        "id": "Vx-KxoM0pDG0",
        "colab_type": "code",
        "outputId": "2ad063a2-2068-4f92-f8c8-1e588678361d",
        "colab": {
          "base_uri": "https://localhost:8080/",
          "height": 317
        }
      },
      "source": [
        "plt.plot(range(len(train_loss)), train_loss, 'b', label='Training loss')\n",
        "plt.plot(range(len(val_loss)), val_loss, 'r', label='Validation loss')\n",
        "plt.title('Training and Validation loss')\n",
        "plt.xlabel('Epochs ',fontsize=16)\n",
        "plt.ylabel('Loss',fontsize=16)\n",
        "plt.legend()\n",
        "plt.figure()\n",
        "plt.show()"
      ],
      "execution_count": 0,
      "outputs": [
        {
          "output_type": "display_data",
          "data": {
            "image/png": "[encoded data removed]",
            "text/plain": [
              "<Figure size 432x288 with 1 Axes>"
            ]
          },
          "metadata": {
            "tags": []
          }
        },
        {
          "output_type": "display_data",
          "data": {
            "text/plain": [
              "<Figure size 432x288 with 0 Axes>"
            ]
          },
          "metadata": {
            "tags": []
          }
        }
      ]
    },
    {
      "cell_type": "code",
      "metadata": {
        "id": "nLRDcEZslff9",
        "colab_type": "code",
        "outputId": "fc2a30d8-d185-4012-a182-fed88a14f268",
        "colab": {
          "base_uri": "https://localhost:8080/",
          "height": 317
        }
      },
      "source": [
        "plt.plot(range(len(train_loss)), train_accuracy, 'b', label='Training Accuracy')\n",
        "plt.plot(range(len(val_loss)), val_accuracy, 'r', label='Validation Accuracy')\n",
        "plt.title('Training and Validation Accuracy')\n",
        "plt.xlabel('Epochs ',fontsize=16)\n",
        "plt.ylabel('Loss',fontsize=16)\n",
        "plt.legend()\n",
        "plt.figure()\n",
        "plt.show()"
      ],
      "execution_count": 0,
      "outputs": [
        {
          "output_type": "display_data",
          "data": {
            "image/png": "[encoded data removed]",
            "text/plain": [
              "<Figure size 432x288 with 1 Axes>"
            ]
          },
          "metadata": {
            "tags": []
          }
        },
        {
          "output_type": "display_data",
          "data": {
            "text/plain": [
              "<Figure size 432x288 with 0 Axes>"
            ]
          },
          "metadata": {
            "tags": []
          }
        }
      ]
    },
    {
      "cell_type": "code",
      "metadata": {
        "id": "uzmIhJj5mRqt",
        "colab_type": "code",
        "colab": {}
      },
      "source": [
        ""
      ],
      "execution_count": 0,
      "outputs": []
    }
  ]
}