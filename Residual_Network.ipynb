{
  "nbformat": 4,
  "nbformat_minor": 0,
  "metadata": {
    "colab": {
      "name": "Residual_Network.ipynb",
      "version": "0.3.2",
      "provenance": [],
      "collapsed_sections": [],
      "include_colab_link": true
    },
    "kernelspec": {
      "name": "python3",
      "display_name": "Python 3"
    }
  },
  "cells": [
    {
      "cell_type": "markdown",
      "metadata": {
        "id": "view-in-github",
        "colab_type": "text"
      },
      "source": [
        "<a href=\"https://colab.research.google.com/github/Juhi-Purswani/Tensorflow_Multiclass_Image_Classification/blob/master/Residual_Network.ipynb\" target=\"_parent\"><img src=\"https://colab.research.google.com/assets/colab-badge.svg\" alt=\"Open In Colab\"/></a>"
      ]
    },
    {
      "cell_type": "code",
      "metadata": {
        "id": "g0jAZMd5H_6F",
        "colab_type": "code",
        "colab": {}
      },
      "source": [
        "from google.colab import drive\n",
        "drive.mount('/content/drive') \n"
      ],
      "execution_count": 0,
      "outputs": []
    },
    {
      "cell_type": "code",
      "metadata": {
        "id": "2UFNeX-_IKEF",
        "colab_type": "code",
        "colab": {}
      },
      "source": [
        "!ls"
      ],
      "execution_count": 0,
      "outputs": []
    },
    {
      "cell_type": "code",
      "metadata": {
        "id": "ctK8-TxQIMgK",
        "colab_type": "code",
        "colab": {}
      },
      "source": [
        "import os\n",
        "os.chdir(\"./drive/My Drive/Plant_Seedlings\")"
      ],
      "execution_count": 0,
      "outputs": []
    },
    {
      "cell_type": "code",
      "metadata": {
        "id": "ptDF4TZoIO1Z",
        "colab_type": "code",
        "colab": {}
      },
      "source": [
        "import cv2\n",
        "import numpy as np\n",
        "from keras.utils import to_categorical\n",
        "from sklearn.model_selection import train_test_split\n",
        "import tensorflow as tf\n",
        "from sklearn.utils import shuffle\n",
        "\n",
        "import matplotlib.pyplot as plt\n",
        "%matplotlib inline"
      ],
      "execution_count": 0,
      "outputs": []
    },
    {
      "cell_type": "code",
      "metadata": {
        "id": "_TjTH6KwISwI",
        "colab_type": "code",
        "colab": {}
      },
      "source": [
        "IMG_SIZE = 224\n",
        "CHANNELS = 3\n",
        "TRAIN_DIR = 'plant_seedlings'\n",
        "#TEST_DIR = ''\n",
        "batch_size = 128\n",
        "learning_rate = 0.001\n",
        "training_iters = 20\n",
        "n_classes = 12"
      ],
      "execution_count": 0,
      "outputs": []
    },
    {
      "cell_type": "code",
      "metadata": {
        "id": "CrmeOxfbIVIO",
        "colab_type": "code",
        "colab": {}
      },
      "source": [
        "def create_features_labels(DIR):\n",
        "  features = []\n",
        "  labels = []\n",
        "  dir_number = 0\n",
        "  car_names = os.listdir(DIR)\n",
        "  for name in car_names:\n",
        "    path = DIR + '/' + name\n",
        "    print(\"dir name and number\" , path , 'and',dir_number)\n",
        "    print(path)\n",
        "    image_names = os.listdir(path)\n",
        "    i=0\n",
        "    for image_name in image_names:\n",
        "      i=i+1\n",
        "      if(i>120):\n",
        "        continue\n",
        "      image_path = path + '/' + image_name\n",
        "      img = cv2.imread(image_path,cv2.IMREAD_COLOR)\n",
        "      img = cv2.resize(img,(IMG_SIZE,IMG_SIZE))\n",
        "      features.append(img)\n",
        "      labels.append(np.array(dir_number))\n",
        "    dir_number = dir_number + 1\n",
        "  return(features , labels)"
      ],
      "execution_count": 0,
      "outputs": []
    },
    {
      "cell_type": "code",
      "metadata": {
        "id": "mDd75pXIIZJs",
        "colab_type": "code",
        "colab": {}
      },
      "source": [
        "train_features,train_labels = create_features_labels(TRAIN_DIR)\n",
        "#test_features,test_labels = create_features_labels(TEST_DIR)\n",
        "train_features = np.asarray(train_features).reshape(-1,IMG_SIZE,IMG_SIZE,CHANNELS)\n",
        "#test_features = np.asarray(test_features).reshape(-1,IMG_SIZE,IMG_SIZE,CHANNELS)"
      ],
      "execution_count": 0,
      "outputs": []
    },
    {
      "cell_type": "code",
      "metadata": {
        "id": "IzTlCYxTIaEC",
        "colab_type": "code",
        "colab": {}
      },
      "source": [
        "features, labels = shuffle(train_features,train_labels)"
      ],
      "execution_count": 0,
      "outputs": []
    },
    {
      "cell_type": "code",
      "metadata": {
        "id": "Mg9pi4PQIf5K",
        "colab_type": "code",
        "colab": {}
      },
      "source": [
        "labels = np.asarray(labels)\n",
        "#test_labels = np.asarray(test_labels)\n",
        "labels = to_categorical(labels)\n",
        "print(features.shape,labels.shape)\n",
        "#print(test_features.shape,test_labels.shape)"
      ],
      "execution_count": 0,
      "outputs": []
    },
    {
      "cell_type": "code",
      "metadata": {
        "id": "jPSjaDUIInsA",
        "colab_type": "code",
        "colab": {}
      },
      "source": [
        "X_train, X_test, y_train, y_test = train_test_split(features, labels, test_size=0.2, random_state=42)"
      ],
      "execution_count": 0,
      "outputs": []
    },
    {
      "cell_type": "code",
      "metadata": {
        "id": "ApbDVKMLIqLC",
        "colab_type": "code",
        "colab": {}
      },
      "source": [
        "X_train = (X_train/np.float32(255))\n",
        "X_test = X_test/np.float32(255)"
      ],
      "execution_count": 0,
      "outputs": []
    }
  ]
}